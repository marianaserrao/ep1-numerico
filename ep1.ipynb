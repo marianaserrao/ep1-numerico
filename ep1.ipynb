{
 "metadata": {
  "language_info": {
   "codemirror_mode": {
    "name": "ipython",
    "version": 3
   },
   "file_extension": ".py",
   "mimetype": "text/x-python",
   "name": "python",
   "nbconvert_exporter": "python",
   "pygments_lexer": "ipython3",
   "version": "3.8.8"
  },
  "orig_nbformat": 2,
  "kernelspec": {
   "name": "python388jvsc74a57bd0e7147879532418446a730a67b62ef8651181e673284e5614f382c4e723d8bc67",
   "display_name": "Python 3.8.8 64-bit ('base': conda)"
  }
 },
 "nbformat": 4,
 "nbformat_minor": 2,
 "cells": [
  {
   "cell_type": "code",
   "execution_count": 1,
   "metadata": {},
   "outputs": [],
   "source": [
    "import numpy as np\n",
    "import math"
   ]
  },
  {
   "cell_type": "code",
   "execution_count": 2,
   "metadata": {},
   "outputs": [],
   "source": [
    "#criando matriz tridiagonal simetrica\n",
    "n = int(input(\"Qual o tamanho da matriz\"))\n",
    "\n",
    "A = np.eye(n)*2\n",
    "for i in range(0,n):\n",
    "    if i>0:\n",
    "        A[i,i-1]=-1\n",
    "    if i<n-1:\n",
    "        A[i,i+1]=-1\n",
    "\n",
    "#criterio de parada de iteracoes\n",
    "err=10**(-6)"
   ]
  },
  {
   "cell_type": "code",
   "execution_count": 3,
   "metadata": {},
   "outputs": [],
   "source": [
    "#obtendo valores do seno e cosseno para a rotacao de givens\n",
    "def get_givens_params(R, k):\n",
    "    alfa = R[k,k]\n",
    "    beta = R[k+1,k]\n",
    "    if abs(alfa)>abs(beta):\n",
    "        t = -beta/alfa \n",
    "        c = 1/((1+t**2)**(1/2))\n",
    "        s=c*t\n",
    "    else:\n",
    "        t = -alfa/beta\n",
    "        s = 1/((1+t**2)**(1/2))\n",
    "        c=s*t\n",
    "    return (c, s)"
   ]
  },
  {
   "cell_type": "code",
   "execution_count": 4,
   "metadata": {},
   "outputs": [],
   "source": [
    "#obtendo cada transformacao de givens\n",
    "def get_q(c, s, k, m):\n",
    "    q=np.identity(m)\n",
    "    q[k,k]=q[k+1,k+1]=c\n",
    "    q[k,k+1]=-s\n",
    "    q[k+1,k]=s\n",
    "    return q  \n"
   ]
  },
  {
   "cell_type": "code",
   "execution_count": 5,
   "metadata": {},
   "outputs": [],
   "source": [
    "#obtendo decomposicao QR\n",
    "def get_qr_decomposition(A_):\n",
    "    k=0\n",
    "    R=A_\n",
    "    m=np.size(A_,0)\n",
    "    Q = np.identity(m)\n",
    "    while k<=n-2:\n",
    "        c,s = get_givens_params(R,k)\n",
    "        q=get_q(c,s,k,m)\n",
    "        Q = Q@(q.T)\n",
    "        R=q@R\n",
    "        k+=1\n",
    "    return (Q, R)\n"
   ]
  },
  {
   "cell_type": "code",
   "execution_count": 6,
   "metadata": {},
   "outputs": [
    {
     "output_type": "stream",
     "name": "stdout",
     "text": [
      "[[3.00000000e+00 2.22044605e-16]\n [0.00000000e+00 1.00000000e+00]] [[ 0.70710678  0.70710678]\n [-0.70710678  0.70710678]]\n"
     ]
    },
    {
     "output_type": "execute_result",
     "data": {
      "text/plain": [
       "(array([3., 1.]),\n",
       " array([[ 0.70710678, -0.70710678],\n",
       "        [ 0.70710678,  0.70710678]]))"
      ]
     },
     "metadata": {},
     "execution_count": 6
    }
   ],
   "source": [
    "\n",
    "#obtendo auto-valores e auto-vetores com ou sem (hasDesloc) deslocamento espectral\n",
    "def qr_desloc(hasDesloc=False):\n",
    "    V=np.identity(n)\n",
    "    A_=A\n",
    "    m=n\n",
    "    u=0\n",
    "    k=0\n",
    "    \n",
    "    #iteracao para cada auto-valor\n",
    "    while m>=2:\n",
    "        #iterando decomposicoes QR\n",
    "        while abs(A_[m-1,m-2])>err:\n",
    "            #definindo deslocamento espectral\n",
    "            if k>0 and hasDesloc:\n",
    "                d = (A_[m-2,m-2]-A_[m-1,m-1])/2\n",
    "                sgn = np.sign(d or 1)\n",
    "                u=A_[m-1,m-1]+d-sgn*(d**2+A_[m-1,m-2]**2)**(1/2)\n",
    "\n",
    "            uI=u*np.identity(m)\n",
    "            A_[0:m,0:m]-=uI\n",
    "            Q,R = get_qr_decomposition(A_[0:m,0:m])\n",
    "            A_[0:m,0:m]=R@Q+uI\n",
    "            V[0:m,0:m]=V[0:m,0:m]@Q\n",
    "            k+=1\n",
    "        m-=1\n",
    "        print(A_, V)\n",
    "\n",
    "        autovalores = np.diag(A_)\n",
    "        autovetores = V.T\n",
    "\n",
    "    return (autovalores, autovetores)\n",
    "\n",
    "vals, V = qr_desloc(True)\n",
    "vals, V\n"
   ]
  },
  {
   "cell_type": "code",
   "execution_count": 7,
   "metadata": {},
   "outputs": [
    {
     "output_type": "stream",
     "name": "stdout",
     "text": [
      "[0.9999999999999998, 2.9999999999999996]\n[[0.8660254037844386, 0.8660254037844387], [0.8660254037844387, -0.8660254037844385]]\n"
     ]
    }
   ],
   "source": [
    "vals=[]\n",
    "for i in range (1, n+1):\n",
    "    l=2*(1-math.cos(i*math.pi/(n+1)))\n",
    "    vals.append(l)\n",
    "print(vals)\n",
    "\n",
    "vets=[]\n",
    "for i in range (1, n+1):\n",
    "    vet = []\n",
    "    for j in range (1, n+1):\n",
    "        v=math.sin(i*j*math.pi/(n+1))\n",
    "        vet.append(v)\n",
    "    vets.append(vet)\n",
    "print(vets)\n"
   ]
  }
 ]
}