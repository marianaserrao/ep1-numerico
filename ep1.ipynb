{
 "metadata": {
  "language_info": {
   "codemirror_mode": {
    "name": "ipython",
    "version": 3
   },
   "file_extension": ".py",
   "mimetype": "text/x-python",
   "name": "python",
   "nbconvert_exporter": "python",
   "pygments_lexer": "ipython3",
   "version": "3.8.8"
  },
  "orig_nbformat": 2,
  "kernelspec": {
   "name": "python3",
   "display_name": "Python 3.8.8 64-bit ('base': conda)"
  },
  "interpreter": {
   "hash": "e7147879532418446a730a67b62ef8651181e673284e5614f382c4e723d8bc67"
  }
 },
 "nbformat": 4,
 "nbformat_minor": 2,
 "cells": [
  {
   "cell_type": "code",
   "execution_count": 59,
   "metadata": {},
   "outputs": [],
   "source": [
    "import numpy as np\n",
    "import math"
   ]
  },
  {
   "cell_type": "code",
   "execution_count": 60,
   "metadata": {},
   "outputs": [],
   "source": [
    "#criando matriz tridiagonal simetrica\n",
    "n = int(input(\"Qual o tamanho da matriz\"))\n",
    "\n",
    "A = np.eye(n)*2\n",
    "for i in range(0,n):\n",
    "    if i>0:\n",
    "        A[i,i-1]=-1\n",
    "    if i<n-1:\n",
    "        A[i,i+1]=-1\n",
    "\n",
    "# A=np.array([[4,3,0],[3,4,3],[0,3,4]], float)\n",
    "# n=np.size(A,0)\n",
    "\n",
    "#criterio de parada de iteracoes\n",
    "err=10**(-6)\n",
    "\n",
    "#definindo se ocorre deslocamento\n",
    "hasShift = True"
   ]
  },
  {
   "cell_type": "code",
   "execution_count": 61,
   "metadata": {},
   "outputs": [],
   "source": [
    "#print colored items in array (0 for pink, 1 for green)\n",
    "def show(items, color=2):\n",
    "    for index,value in enumerate(items):\n",
    "        c = ['95m','32m','0m']\n",
    "        print(\"%s: \\33[%s %s\\33[0m\" %(index+1,c[color],value))\n",
    "    print()"
   ]
  },
  {
   "cell_type": "code",
   "execution_count": 62,
   "metadata": {},
   "outputs": [],
   "source": [
    "#obtendo valores do seno e cosseno para a rotacao de givens\n",
    "def get_givens_params(R, k):\n",
    "    alfa = R[k,k]\n",
    "    beta = R[k+1,k]\n",
    "    if abs(alfa)>abs(beta):\n",
    "        t = -beta/alfa \n",
    "        c = 1/((1+t**2)**(1/2))\n",
    "        s=c*t\n",
    "    else:\n",
    "        t = -alfa/beta\n",
    "        s = 1/((1+t**2)**(1/2))\n",
    "        c=s*t\n",
    "    return (c, s)"
   ]
  },
  {
   "cell_type": "code",
   "execution_count": 63,
   "metadata": {},
   "outputs": [],
   "source": [
    "#obtendo cada transformacao de givens\n",
    "def get_q(c, s, k, m):\n",
    "    q=np.identity(m)\n",
    "    q[k,k]=q[k+1,k+1]=c\n",
    "    q[k,k+1]=-s\n",
    "    q[k+1,k]=s\n",
    "    return q  \n"
   ]
  },
  {
   "cell_type": "code",
   "execution_count": 64,
   "metadata": {},
   "outputs": [],
   "source": [
    "#obtendo decomposicao QR\n",
    "def get_qr_decomposition(A_):\n",
    "    k=0\n",
    "    R=A_\n",
    "    m=np.size(A_,0)\n",
    "    Q = np.identity(m)\n",
    "    while k<=m-2:\n",
    "        c,s = get_givens_params(R,k)\n",
    "        q=get_q(c,s,k,m)\n",
    "        Q = Q@(q.T)\n",
    "        R=q@R\n",
    "        k+=1\n",
    "    return (Q, R)\n"
   ]
  },
  {
   "cell_type": "code",
   "execution_count": 65,
   "metadata": {},
   "outputs": [
    {
     "output_type": "stream",
     "name": "stdout",
     "text": [
      "iterações: 2\n\n1: \u001b[95m 2.9999999999999996\u001b[0m\n2: \u001b[95m 1.0\u001b[0m\n\n1: \u001b[32m [ 0.70710678 -0.70710678]\u001b[0m\n2: \u001b[32m [0.70710678 0.70710678]\u001b[0m\n\n"
     ]
    }
   ],
   "source": [
    "#obtendo auto-valores e auto-vetores com ou sem (hasShift) deslocamento espectral\n",
    "def qr_shifted(A, hasShift):\n",
    "    V=np.identity(n)\n",
    "    A_=A\n",
    "    m=n\n",
    "    u=0\n",
    "    k=0\n",
    "    \n",
    "    #iteracao para cada auto-valor\n",
    "    while m>=2:\n",
    "        #iterando decomposicoes QR\n",
    "        while abs(A_[m-1,m-2])>err:\n",
    "            #definindo deslocamento espectral\n",
    "            if k>0 and hasShift:\n",
    "                d = (A_[m-2,m-2]-A_[m-1,m-1])/2\n",
    "                sgn = np.sign(d or 1)\n",
    "                u=A_[m-1,m-1]+d-sgn*(d**2+A_[m-1,m-2]**2)**(1/2)\n",
    "\n",
    "            uI=u*np.identity(m)\n",
    "            A_[0:m,0:m]-=uI\n",
    "            Q,R = get_qr_decomposition(A_[0:m,0:m])\n",
    "            A_[0:m,0:m]=R@Q+uI\n",
    "            V[0:m,0:m]=V[0:m,0:m]@Q\n",
    "            k+=1\n",
    "\n",
    "        m-=1\n",
    "\n",
    "    autovalores = np.diag(A_)\n",
    "    autovetores = V.T\n",
    "    iterations = k\n",
    "\n",
    "    return (autovalores, autovetores, iterations)\n",
    "\n",
    "autovalores, autovetores, iterations = qr_shifted(A, hasShift)\n",
    "\n",
    "print(\"iterações: %s\\n\"%iterations)\n",
    "show(autovalores, 0)\n",
    "show(autovetores, 1)"
   ]
  },
  {
   "cell_type": "code",
   "execution_count": 66,
   "metadata": {
    "tags": []
   },
   "outputs": [
    {
     "output_type": "stream",
     "name": "stdout",
     "text": [
      "GABARITO:\n\n1: \u001b[95m 2.9999999999999996\u001b[0m\n2: \u001b[95m 0.9999999999999998\u001b[0m\n\n1: \u001b[32m [0.8660254037844387, -0.8660254037844385]\u001b[0m\n2: \u001b[32m [0.8660254037844386, 0.8660254037844387]\u001b[0m\n\n"
     ]
    }
   ],
   "source": [
    "#resultados conhecidos analiticamente\n",
    "vals=[]\n",
    "for i in range (1, n+1):\n",
    "    l=2*(1-math.cos(i*math.pi/(n+1)))\n",
    "    vals.insert(0,l)\n",
    "\n",
    "vets=[]\n",
    "for i in range (1, n+1):\n",
    "    vet = []\n",
    "    for j in range (1, n+1):\n",
    "        v=math.sin(i*j*math.pi/(n+1))\n",
    "        vet.append(v)\n",
    "    vets.insert(0,vet)\n",
    "print('GABARITO:\\n')\n",
    "show(vals, 0)\n",
    "show(vets, 1)"
   ]
  },
  {
   "cell_type": "code",
   "execution_count": 67,
   "metadata": {},
   "outputs": [
    {
     "output_type": "stream",
     "name": "stdout",
     "text": [
      "QUESTÕES B E C\n"
     ]
    }
   ],
   "source": [
    "print('QUESTÕES B E C')"
   ]
  },
  {
   "cell_type": "code",
   "execution_count": 68,
   "metadata": {},
   "outputs": [],
   "source": [
    "item = int(input('Qual o item a ser realizado? (0 para b e 1 para c)'))\n",
    "n = 5 if item == 0 else 10\n",
    "m=2\n",
    "X0 = [-2,-3,-1,-3,-1]\n",
    "if item == 1:\n",
    "    for i in range(len(X0)):\n",
    "        X0.append(X0[i])"
   ]
  },
  {
   "cell_type": "code",
   "execution_count": 69,
   "metadata": {},
   "outputs": [],
   "source": [
    "def get_k(i, item=0):\n",
    "    k = 40+2*1 if item ==0 else 40+2*(-1)**i\n",
    "    return k/m"
   ]
  },
  {
   "cell_type": "code",
   "execution_count": 70,
   "metadata": {},
   "outputs": [],
   "source": [
    "def get_A():\n",
    "    A=np.zeros([n,n])\n",
    "    for i in range(n):\n",
    "        A[i,i]=get_k(i+1)+get_k(i+2)\n",
    "        if i<n-1:\n",
    "            A[i,i+1]=-get_k(i+2)\n",
    "        if i>0:\n",
    "            A[i,i-1]=-get_k(i+1)\n",
    "    return A"
   ]
  },
  {
   "cell_type": "code",
   "execution_count": 71,
   "metadata": {},
   "outputs": [
    {
     "output_type": "stream",
     "name": "stdout",
     "text": [
      "frequências\n\n1: \u001b[95m 82.29870489180887\u001b[0m\n2: \u001b[95m 77.3326483789096\u001b[0m\n3: \u001b[95m 69.50415082570198\u001b[0m\n4: \u001b[95m 59.447430546079254\u001b[0m\n5: \u001b[95m 47.977223207477984\u001b[0m\n6: \u001b[95m 36.022776792522045\u001b[0m\n7: \u001b[95m 24.552569453920785\u001b[0m\n8: \u001b[95m 14.495849174298034\u001b[0m\n9: \u001b[95m 6.667351621090387\u001b[0m\n10: \u001b[95m 1.70129510819111\u001b[0m\n\nmodos de vibração\n\n1: \u001b[32m [ 0.12013117 -0.23053002  0.37194909 -0.46804663  0.40099276 -0.20769365\n  0.04947538 -0.00238496  0.          0.        ]\u001b[0m\n2: \u001b[32m [ 0.23053002 -0.38786839  0.37899394 -0.16754741 -0.23903354  0.50420437\n -0.32025194  0.05176161  0.          0.        ]\u001b[0m\n3: \u001b[32m [ 0.3222527  -0.42206128  0.23053002  0.14690271 -0.37709613  0.03233312\n  0.51100827 -0.30964256  0.01214121  0.        ]\u001b[0m\n4: \u001b[32m [ 0.38786839 -0.3222527  -0.12013117  0.42206128 -0.18978798 -0.33986629\n  0.11037049  0.56696124 -0.15994622  0.        ]\u001b[0m\n5: \u001b[32m [ 0.42206128 -0.12013117 -0.38786839  0.23053002  0.3222527  -0.29340548\n -0.36623102 -0.03756316  0.55276431  0.        ]\u001b[0m\n6: \u001b[32m [ 0.42206128  0.12013117 -0.38786839 -0.23053002  0.3222527   0.3222527\n -0.20173925 -0.46637627 -0.46309093  0.19039918]\u001b[0m\n7: \u001b[32m [ 0.38786839  0.3222527  -0.12013117 -0.42206128 -0.23053002  0.23053002\n  0.42206128  0.16108087 -0.21990802 -0.70484937]\u001b[0m\n8: \u001b[32m [ 0.3222527   0.42206128  0.23053002 -0.12013117 -0.38786839 -0.38786839\n -0.12013117  0.23053002  0.44980295  0.61938201]\u001b[0m\n9: \u001b[32m [ 0.23053002  0.38786838  0.42206127  0.32225269  0.12013116 -0.12013117\n -0.32225271 -0.42206129 -0.38786839 -0.26243084]\u001b[0m\n10: \u001b[32m [0.12013117 0.23053003 0.32225271 0.38786839 0.42206128 0.42206128\n 0.38786838 0.32225269 0.23053001 0.12013116]\u001b[0m\n\n"
     ]
    }
   ],
   "source": [
    "autovalores,autovetores,iteracoes = qr_shifted(get_A(), hasShift)\n",
    "print('frequências\\n')\n",
    "show(autovalores, 0)\n",
    "print('modos de vibração\\n')\n",
    "show(autovetores, 1)"
   ]
  },
  {
   "cell_type": "code",
   "execution_count": 72,
   "metadata": {},
   "outputs": [
    {
     "output_type": "stream",
     "name": "stdout",
     "text": [
      "[-2.0, -3.0, -1.0, -3.0, -1.0, -2.0, -3.0, -1.0, -3.0, -1.0]\n"
     ]
    }
   ],
   "source": [
    "a=X0\n",
    "X_t=[]\n",
    "t=0\n",
    "for i in range(len(a)):\n",
    "    X_t.append(a[i]*math.cos(autovalores[i]*t))\n",
    "print(X_t)"
   ]
  }
 ]
}